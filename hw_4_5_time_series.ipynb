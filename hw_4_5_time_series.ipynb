{
 "cells": [
  {
   "cell_type": "code",
   "execution_count": 2,
   "metadata": {},
   "outputs": [
    {
     "name": "stderr",
     "output_type": "stream",
     "text": [
      "C:\\Users\\ataga\\Anaconda3\\lib\\site-packages\\statsmodels\\compat\\pandas.py:49: FutureWarning: The Panel class is removed from pandas. Accessing it from the top-level namespace will also be removed in the next version\n",
      "  data_klasses = (pandas.Series, pandas.DataFrame, pandas.Panel)\n"
     ]
    }
   ],
   "source": [
    "%matplotlib inline\n",
    "import matplotlib.pyplot as plt\n",
    "\n",
    "import numpy as np\n",
    "import pandas as pd \n",
    "import seaborn as sns\n",
    "\n",
    "import itertools\n",
    "\n",
    "import statsmodels.api as sm\n",
    "from statsmodels.tsa.statespace.sarimax import SARIMAX\n",
    "\n",
    "from sklearn.metrics import mean_squared_error\n",
    "from sklearn.ensemble import GradientBoostingRegressor\n",
    "\n",
    "import warnings\n",
    "warnings.simplefilter('ignore')"
   ]
  },
  {
   "cell_type": "markdown",
   "metadata": {},
   "source": [
    "## Прочитайте базу my_PJME_MW.csv и сделайте ее перерасчет (ресемплинг) в представление по неделям."
   ]
  },
  {
   "cell_type": "code",
   "execution_count": 3,
   "metadata": {},
   "outputs": [
    {
     "data": {
      "text/html": [
       "<div>\n",
       "<style scoped>\n",
       "    .dataframe tbody tr th:only-of-type {\n",
       "        vertical-align: middle;\n",
       "    }\n",
       "\n",
       "    .dataframe tbody tr th {\n",
       "        vertical-align: top;\n",
       "    }\n",
       "\n",
       "    .dataframe thead th {\n",
       "        text-align: right;\n",
       "    }\n",
       "</style>\n",
       "<table border=\"1\" class=\"dataframe\">\n",
       "  <thead>\n",
       "    <tr style=\"text-align: right;\">\n",
       "      <th></th>\n",
       "      <th>Time</th>\n",
       "      <th>PJME_MW</th>\n",
       "      <th>year</th>\n",
       "      <th>month</th>\n",
       "      <th>dayofmonth</th>\n",
       "      <th>quarter</th>\n",
       "      <th>dayofyear</th>\n",
       "      <th>weekofyear</th>\n",
       "      <th>dayofweek</th>\n",
       "      <th>hour</th>\n",
       "      <th>is_holiday</th>\n",
       "      <th>is_prev_holiday</th>\n",
       "      <th>is_next_holiday</th>\n",
       "    </tr>\n",
       "    <tr>\n",
       "      <th>Date</th>\n",
       "      <th></th>\n",
       "      <th></th>\n",
       "      <th></th>\n",
       "      <th></th>\n",
       "      <th></th>\n",
       "      <th></th>\n",
       "      <th></th>\n",
       "      <th></th>\n",
       "      <th></th>\n",
       "      <th></th>\n",
       "      <th></th>\n",
       "      <th></th>\n",
       "      <th></th>\n",
       "    </tr>\n",
       "  </thead>\n",
       "  <tbody>\n",
       "    <tr>\n",
       "      <td>2002-01-01</td>\n",
       "      <td>01:00:00</td>\n",
       "      <td>30393.0</td>\n",
       "      <td>2002</td>\n",
       "      <td>1</td>\n",
       "      <td>1</td>\n",
       "      <td>1</td>\n",
       "      <td>1</td>\n",
       "      <td>1</td>\n",
       "      <td>1</td>\n",
       "      <td>1</td>\n",
       "      <td>1</td>\n",
       "      <td>0</td>\n",
       "      <td>0</td>\n",
       "    </tr>\n",
       "    <tr>\n",
       "      <td>2002-01-01</td>\n",
       "      <td>02:00:00</td>\n",
       "      <td>29265.0</td>\n",
       "      <td>2002</td>\n",
       "      <td>1</td>\n",
       "      <td>1</td>\n",
       "      <td>1</td>\n",
       "      <td>1</td>\n",
       "      <td>1</td>\n",
       "      <td>1</td>\n",
       "      <td>2</td>\n",
       "      <td>1</td>\n",
       "      <td>0</td>\n",
       "      <td>0</td>\n",
       "    </tr>\n",
       "    <tr>\n",
       "      <td>2002-01-01</td>\n",
       "      <td>03:00:00</td>\n",
       "      <td>28357.0</td>\n",
       "      <td>2002</td>\n",
       "      <td>1</td>\n",
       "      <td>1</td>\n",
       "      <td>1</td>\n",
       "      <td>1</td>\n",
       "      <td>1</td>\n",
       "      <td>1</td>\n",
       "      <td>3</td>\n",
       "      <td>1</td>\n",
       "      <td>0</td>\n",
       "      <td>0</td>\n",
       "    </tr>\n",
       "    <tr>\n",
       "      <td>2002-01-01</td>\n",
       "      <td>04:00:00</td>\n",
       "      <td>27899.0</td>\n",
       "      <td>2002</td>\n",
       "      <td>1</td>\n",
       "      <td>1</td>\n",
       "      <td>1</td>\n",
       "      <td>1</td>\n",
       "      <td>1</td>\n",
       "      <td>1</td>\n",
       "      <td>4</td>\n",
       "      <td>1</td>\n",
       "      <td>0</td>\n",
       "      <td>0</td>\n",
       "    </tr>\n",
       "    <tr>\n",
       "      <td>2002-01-01</td>\n",
       "      <td>05:00:00</td>\n",
       "      <td>28057.0</td>\n",
       "      <td>2002</td>\n",
       "      <td>1</td>\n",
       "      <td>1</td>\n",
       "      <td>1</td>\n",
       "      <td>1</td>\n",
       "      <td>1</td>\n",
       "      <td>1</td>\n",
       "      <td>5</td>\n",
       "      <td>1</td>\n",
       "      <td>0</td>\n",
       "      <td>0</td>\n",
       "    </tr>\n",
       "  </tbody>\n",
       "</table>\n",
       "</div>"
      ],
      "text/plain": [
       "                Time  PJME_MW  year  month  dayofmonth  quarter  dayofyear  \\\n",
       "Date                                                                         \n",
       "2002-01-01  01:00:00  30393.0  2002      1           1        1          1   \n",
       "2002-01-01  02:00:00  29265.0  2002      1           1        1          1   \n",
       "2002-01-01  03:00:00  28357.0  2002      1           1        1          1   \n",
       "2002-01-01  04:00:00  27899.0  2002      1           1        1          1   \n",
       "2002-01-01  05:00:00  28057.0  2002      1           1        1          1   \n",
       "\n",
       "            weekofyear  dayofweek  hour  is_holiday  is_prev_holiday  \\\n",
       "Date                                                                   \n",
       "2002-01-01           1          1     1           1                0   \n",
       "2002-01-01           1          1     2           1                0   \n",
       "2002-01-01           1          1     3           1                0   \n",
       "2002-01-01           1          1     4           1                0   \n",
       "2002-01-01           1          1     5           1                0   \n",
       "\n",
       "            is_next_holiday  \n",
       "Date                         \n",
       "2002-01-01                0  \n",
       "2002-01-01                0  \n",
       "2002-01-01                0  \n",
       "2002-01-01                0  \n",
       "2002-01-01                0  "
      ]
     },
     "execution_count": 3,
     "metadata": {},
     "output_type": "execute_result"
    }
   ],
   "source": [
    "Path_Energy = 'my_PJME_MW (2).csv'\n",
    "data = pd.read_csv(Path_Energy, index_col=[0], parse_dates=[0])\n",
    "\n",
    "data.head()"
   ]
  },
  {
   "cell_type": "code",
   "execution_count": 4,
   "metadata": {},
   "outputs": [
    {
     "data": {
      "text/html": [
       "<div>\n",
       "<style scoped>\n",
       "    .dataframe tbody tr th:only-of-type {\n",
       "        vertical-align: middle;\n",
       "    }\n",
       "\n",
       "    .dataframe tbody tr th {\n",
       "        vertical-align: top;\n",
       "    }\n",
       "\n",
       "    .dataframe thead th {\n",
       "        text-align: right;\n",
       "    }\n",
       "</style>\n",
       "<table border=\"1\" class=\"dataframe\">\n",
       "  <thead>\n",
       "    <tr style=\"text-align: right;\">\n",
       "      <th></th>\n",
       "      <th>PJME_MW</th>\n",
       "      <th>year</th>\n",
       "      <th>month</th>\n",
       "      <th>dayofmonth</th>\n",
       "      <th>quarter</th>\n",
       "      <th>dayofyear</th>\n",
       "      <th>weekofyear</th>\n",
       "      <th>dayofweek</th>\n",
       "      <th>hour</th>\n",
       "      <th>is_holiday</th>\n",
       "      <th>is_prev_holiday</th>\n",
       "      <th>is_next_holiday</th>\n",
       "    </tr>\n",
       "    <tr>\n",
       "      <th>Date</th>\n",
       "      <th></th>\n",
       "      <th></th>\n",
       "      <th></th>\n",
       "      <th></th>\n",
       "      <th></th>\n",
       "      <th></th>\n",
       "      <th></th>\n",
       "      <th></th>\n",
       "      <th></th>\n",
       "      <th></th>\n",
       "      <th></th>\n",
       "      <th></th>\n",
       "    </tr>\n",
       "  </thead>\n",
       "  <tbody>\n",
       "    <tr>\n",
       "      <td>2018-07-08</td>\n",
       "      <td>38459.982143</td>\n",
       "      <td>2018.0</td>\n",
       "      <td>7.000000</td>\n",
       "      <td>5.000000</td>\n",
       "      <td>3.0</td>\n",
       "      <td>186.000000</td>\n",
       "      <td>27.0</td>\n",
       "      <td>3.000000</td>\n",
       "      <td>11.500000</td>\n",
       "      <td>0.142857</td>\n",
       "      <td>0.142857</td>\n",
       "      <td>0.142857</td>\n",
       "    </tr>\n",
       "    <tr>\n",
       "      <td>2018-07-15</td>\n",
       "      <td>36420.035714</td>\n",
       "      <td>2018.0</td>\n",
       "      <td>7.000000</td>\n",
       "      <td>12.000000</td>\n",
       "      <td>3.0</td>\n",
       "      <td>193.000000</td>\n",
       "      <td>28.0</td>\n",
       "      <td>3.000000</td>\n",
       "      <td>11.500000</td>\n",
       "      <td>0.000000</td>\n",
       "      <td>0.000000</td>\n",
       "      <td>0.000000</td>\n",
       "    </tr>\n",
       "    <tr>\n",
       "      <td>2018-07-22</td>\n",
       "      <td>35612.095238</td>\n",
       "      <td>2018.0</td>\n",
       "      <td>7.000000</td>\n",
       "      <td>19.000000</td>\n",
       "      <td>3.0</td>\n",
       "      <td>200.000000</td>\n",
       "      <td>29.0</td>\n",
       "      <td>3.000000</td>\n",
       "      <td>11.500000</td>\n",
       "      <td>0.000000</td>\n",
       "      <td>0.000000</td>\n",
       "      <td>0.000000</td>\n",
       "    </tr>\n",
       "    <tr>\n",
       "      <td>2018-07-29</td>\n",
       "      <td>36581.821429</td>\n",
       "      <td>2018.0</td>\n",
       "      <td>7.000000</td>\n",
       "      <td>26.000000</td>\n",
       "      <td>3.0</td>\n",
       "      <td>207.000000</td>\n",
       "      <td>30.0</td>\n",
       "      <td>3.000000</td>\n",
       "      <td>11.500000</td>\n",
       "      <td>0.000000</td>\n",
       "      <td>0.000000</td>\n",
       "      <td>0.000000</td>\n",
       "    </tr>\n",
       "    <tr>\n",
       "      <td>2018-08-05</td>\n",
       "      <td>36568.804124</td>\n",
       "      <td>2018.0</td>\n",
       "      <td>7.505155</td>\n",
       "      <td>15.865979</td>\n",
       "      <td>3.0</td>\n",
       "      <td>212.525773</td>\n",
       "      <td>31.0</td>\n",
       "      <td>1.525773</td>\n",
       "      <td>11.381443</td>\n",
       "      <td>0.000000</td>\n",
       "      <td>0.000000</td>\n",
       "      <td>0.000000</td>\n",
       "    </tr>\n",
       "  </tbody>\n",
       "</table>\n",
       "</div>"
      ],
      "text/plain": [
       "                 PJME_MW    year     month  dayofmonth  quarter   dayofyear  \\\n",
       "Date                                                                          \n",
       "2018-07-08  38459.982143  2018.0  7.000000    5.000000      3.0  186.000000   \n",
       "2018-07-15  36420.035714  2018.0  7.000000   12.000000      3.0  193.000000   \n",
       "2018-07-22  35612.095238  2018.0  7.000000   19.000000      3.0  200.000000   \n",
       "2018-07-29  36581.821429  2018.0  7.000000   26.000000      3.0  207.000000   \n",
       "2018-08-05  36568.804124  2018.0  7.505155   15.865979      3.0  212.525773   \n",
       "\n",
       "            weekofyear  dayofweek       hour  is_holiday  is_prev_holiday  \\\n",
       "Date                                                                        \n",
       "2018-07-08        27.0   3.000000  11.500000    0.142857         0.142857   \n",
       "2018-07-15        28.0   3.000000  11.500000    0.000000         0.000000   \n",
       "2018-07-22        29.0   3.000000  11.500000    0.000000         0.000000   \n",
       "2018-07-29        30.0   3.000000  11.500000    0.000000         0.000000   \n",
       "2018-08-05        31.0   1.525773  11.381443    0.000000         0.000000   \n",
       "\n",
       "            is_next_holiday  \n",
       "Date                         \n",
       "2018-07-08         0.142857  \n",
       "2018-07-15         0.000000  \n",
       "2018-07-22         0.000000  \n",
       "2018-07-29         0.000000  \n",
       "2018-08-05         0.000000  "
      ]
     },
     "execution_count": 4,
     "metadata": {},
     "output_type": "execute_result"
    }
   ],
   "source": [
    "data_w = data.resample('W').mean()\n",
    "data_w.tail()"
   ]
  },
  {
   "cell_type": "code",
   "execution_count": 5,
   "metadata": {},
   "outputs": [
    {
     "data": {
      "image/png": "[encoded data removed]",
      "text/plain": [
       "<Figure size 1080x432 with 1 Axes>"
      ]
     },
     "metadata": {
      "needs_background": "light"
     },
     "output_type": "display_data"
    }
   ],
   "source": [
    "plt.figure(figsize =(15, 6))\n",
    "plt.plot( data_w.index, data_w['PJME_MW'].values)\n",
    "plt.title('PJM East еженедельное потребление энергии')\n",
    "plt.ylabel ('МВт');"
   ]
  },
  {
   "cell_type": "markdown",
   "metadata": {},
   "source": [
    "#### Сначала найдем оптимальные параметры ARIMA"
   ]
  },
  {
   "cell_type": "code",
   "execution_count": null,
   "metadata": {},
   "outputs": [],
   "source": [
    "p = range(2, 10)\n",
    "d = range(2, 10)\n",
    "q = range(2, 10)\n",
    "\n",
    "# зададим сетку p, d и q\n",
    "pdq = list(itertools.product(p, d, q))\n",
    "\n",
    "for param in pdq:\n",
    "    try:\n",
    "        mod = sm.tsa.statespace.SARIMAX(data_w['PJME_MW'].values[:-30],\n",
    "                                order=param,\n",
    "                                seasonal_order=[1, 1, 2, 26],\n",
    "                                enforce_stationarity=False,\n",
    "                                enforce_invertibility=False)\n",
    "        aic_ = 1000000\n",
    "        param_ = None \n",
    "        param_seasonal_ = None\n",
    "        results = mod.fit()\n",
    "        if results.aic < aic_:\n",
    "            aic_ = results.aic\n",
    "            param_ = param \n",
    "            param_seasonal_ = param_seasonal\n",
    "    except:\n",
    "        continue\n",
    "print('SARIMAX {} x {} - AIC: {}'.format(param_, param_seasonal_, aic_))"
   ]
  },
  {
   "cell_type": "markdown",
   "metadata": {},
   "source": [
    "Добавим скользящее среднее по всей модели с глубиной 4 недели"
   ]
  },
  {
   "cell_type": "code",
   "execution_count": null,
   "metadata": {},
   "outputs": [],
   "source": [
    "data_w['w_m'] = data_w['PJME_MW'].rolling(window=4).mean()"
   ]
  },
  {
   "cell_type": "code",
   "execution_count": null,
   "metadata": {},
   "outputs": [],
   "source": [
    "Добавим сглаживание"
   ]
  },
  {
   "cell_type": "code",
   "execution_count": null,
   "metadata": {},
   "outputs": [],
   "source": [
    "def exponential_smoothing(series, alpha):\n",
    "    result = [series[0]] \n",
    "    for n in range(1, len(series)):\n",
    "        result.append(alpha * series[n] + (1 - alpha) * result[n-1])\n",
    "    return result\n",
    "\n",
    "data_w['exp_0_5'] = exponential_smoothing(data_w['PJME_MW'], 0.5)"
   ]
  },
  {
   "cell_type": "markdown",
   "metadata": {},
   "source": [
    "Добавим истории длиной p в признаках автокорреляции"
   ]
  },
  {
   "cell_type": "code",
   "execution_count": null,
   "metadata": {},
   "outputs": [],
   "source": [
    "p = 7\n",
    "for i in range(p):\n",
    "    data_w['t'+str(p-i)]=0\n",
    "    data_w['t'+str(p-i)].values[p:] = data_w['PJME_MW'].values[i:-(p)+i]"
   ]
  },
  {
   "cell_type": "markdown",
   "metadata": {},
   "source": [
    "Аналогично добавляем первые разности"
   ]
  },
  {
   "cell_type": "code",
   "execution_count": null,
   "metadata": {},
   "outputs": [],
   "source": [
    "p = 7\n",
    "for i in range(p):\n",
    "    data_w['d'+str(p-i)]=0\n",
    "    data_w['d'+str(p-i)].values[p:] = data_w['diff1'].values[i:-(p)+i]"
   ]
  },
  {
   "cell_type": "code",
   "execution_count": null,
   "metadata": {},
   "outputs": [],
   "source": [
    "def split_data(data, split_date):\n",
    "    return data.loc[data.index.get_level_values('Date') <= split_date].copy(), \\\n",
    "           data.loc[data.index.get_level_values('Date') >  split_date].copy()"
   ]
  },
  {
   "cell_type": "code",
   "execution_count": null,
   "metadata": {},
   "outputs": [],
   "source": [
    "train, test = split_data(data_w, '01-06-2016')\n",
    "\n",
    "plt.figure(figsize=( 15, 7 ))\n",
    "plt.xlabel('Время')\n",
    "plt.ylabel('Потребление энергии, МВт')\n",
    "plt.plot(train.index.get_level_values('Date'),train['PJME_MW'], label='train data' )\n",
    "plt.plot(test.index.get_level_values('Date'),test['PJME_MW'], label='test data')\n",
    "plt.title( 'Тестовые и тренировочные данные' )\n",
    "plt.legend()\n",
    "plt.show()"
   ]
  },
  {
   "cell_type": "markdown",
   "metadata": {},
   "source": [
    "## Постройте модель предсказания 4-й точки от текущей (h = 4), используя результаты моделирования ARIMA."
   ]
  },
  {
   "cell_type": "code",
   "execution_count": null,
   "metadata": {},
   "outputs": [],
   "source": [
    "h = 4"
   ]
  },
  {
   "cell_type": "code",
   "execution_count": null,
   "metadata": {},
   "outputs": [],
   "source": [
    "X_train_4 = train.iloc[:-h,:]"
   ]
  },
  {
   "cell_type": "code",
   "execution_count": null,
   "metadata": {},
   "outputs": [],
   "source": [
    "y_train_4 = train[df.columns[0]].values[:-h]"
   ]
  },
  {
   "cell_type": "code",
   "execution_count": null,
   "metadata": {},
   "outputs": [],
   "source": [
    "X_test_4 = test.iloc[:-h,:]"
   ]
  },
  {
   "cell_type": "code",
   "execution_count": null,
   "metadata": {},
   "outputs": [],
   "source": [
    "y_test_4 = test[df.columns[0]].values[:-h]"
   ]
  },
  {
   "cell_type": "code",
   "execution_count": null,
   "metadata": {},
   "outputs": [],
   "source": [
    "model_gb = GradientBoostingRegressor(max_depth=3, random_state=0, n_estimators=100)\n",
    "\n",
    "model_gb.fit(X_train_4, y_train_4) \n",
    "X_test_pred_gb_4 = model_gb.predict(X_test_4)"
   ]
  },
  {
   "cell_type": "code",
   "execution_count": null,
   "metadata": {},
   "outputs": [],
   "source": [
    "def mean_absolute_percentage_error(y_true, y_pred): \n",
    "    y_true, y_pred = np.array(y_true), np.array(y_pred)\n",
    "    return np.mean(np.abs((y_true - y_pred) / y_true)) * 100"
   ]
  },
  {
   "cell_type": "code",
   "execution_count": null,
   "metadata": {},
   "outputs": [],
   "source": [
    "plt.figure( figsize=(16, 6))\n",
    "\n",
    "plt.xlabel('Время')\n",
    "plt.ylabel('Потребление энергии')\n",
    "plt.plot(test.index[h: h + 50], X_test_pred_gb_4[: 50], label='Предсказание')\n",
    "plt.plot(test.index[h: h + 50], y_test_4[: 50], label='test data')\n",
    "plt.legend()\n",
    "plt.show()\n",
    "\n",
    "er_g_4 = mean_absolute_percentage_error(y_true=y_test_4, y_pred=X_test_pred_gb_4)\n",
    "\n",
    "print('ошибка градиентного бустинга :  ', er_g_4, '%')"
   ]
  },
  {
   "cell_type": "markdown",
   "metadata": {},
   "source": [
    "## Постройте модель предсказания 1-й точки от текущей (h = 1), используя результаты моделирования ARIMA."
   ]
  },
  {
   "cell_type": "code",
   "execution_count": null,
   "metadata": {},
   "outputs": [],
   "source": [
    "h = 1"
   ]
  },
  {
   "cell_type": "code",
   "execution_count": null,
   "metadata": {},
   "outputs": [],
   "source": [
    "X_train_1 = train.iloc[:-h,:]"
   ]
  },
  {
   "cell_type": "code",
   "execution_count": null,
   "metadata": {},
   "outputs": [],
   "source": [
    "y_train_1 = train[df.columns[0]].values[:-h]"
   ]
  },
  {
   "cell_type": "code",
   "execution_count": null,
   "metadata": {},
   "outputs": [],
   "source": [
    "X_test_1 = test.iloc[:-h,:]"
   ]
  },
  {
   "cell_type": "code",
   "execution_count": null,
   "metadata": {},
   "outputs": [],
   "source": [
    "y_test_1 = test[df.columns[0]].values[:-h]"
   ]
  },
  {
   "cell_type": "code",
   "execution_count": null,
   "metadata": {},
   "outputs": [],
   "source": [
    "model_gb = GradientBoostingRegressor(max_depth=3, random_state=0, n_estimators=100)\n",
    "\n",
    "model_gb.fit(X_train_1, y_train_1) \n",
    "X_test_pred_gb_1 = model_gb.predict(X_test_1)"
   ]
  },
  {
   "cell_type": "code",
   "execution_count": null,
   "metadata": {},
   "outputs": [],
   "source": [
    "plt.figure( figsize=(16, 6))\n",
    "\n",
    "plt.xlabel('Время')\n",
    "plt.ylabel('Потребление энергии')\n",
    "plt.plot(test.index[h: h + 50], X_test_pred_gb_1[: 50], label='Предсказание')\n",
    "plt.plot(test.index[h: h + 50], y_test_4[: 50], label='test data')\n",
    "plt.legend()\n",
    "plt.show()\n",
    "\n",
    "er_g_1 = mean_absolute_percentage_error(y_true=y_test, y_pred=X_test_pred_gb_1)\n",
    "\n",
    "print('ошибка градиентного бустинга :  ', er_g_1, '%')"
   ]
  },
  {
   "cell_type": "markdown",
   "metadata": {},
   "source": [
    "## Примените авторекурсию и сравните результат в 4-й точке путем прямого моделирования и путем рекурсивного моделирования на длине выборки bp 4-х точек."
   ]
  },
  {
   "cell_type": "code",
   "execution_count": null,
   "metadata": {},
   "outputs": [],
   "source": [
    "#['PJME_MW', 'dayofweek', 'd_w7', 'exp_0_05', 't1', 't6']\n",
    "X_test_rec = X_test.copy()\n",
    "y_test_rec = y_test_pred_g.copy()\n",
    "N = 4\n",
    "for i in range(N):\n",
    "    y_test_rec[i] = model_g_best.predict(X_test_rec[i, :].reshape((1, 6)))\n",
    "    X_test_rec[i+1, 0] = y_test_rec[i]\n",
    "    X_test_rec[i+1, 4] = X_test_rec[i, 0]\n",
    "    if i>4:\n",
    "        X_test_rec[i+1, 5] = X_test_rec[i-5, 0]"
   ]
  },
  {
   "cell_type": "code",
   "execution_count": null,
   "metadata": {},
   "outputs": [],
   "source": [
    "plt.figure( figsize=( 15, 7 ))\n",
    "\n",
    "\n",
    "plt.xlabel('Время')\n",
    "plt.ylabel('Потребление энергии, МВт')\n",
    "plt.plot(test.index[1: N+1], y_test_pred_g_4[:N], 'r', label='Предсказание путем прямого моделирования' )\n",
    "plt.plot(test.index[1: N+1], y_test[:N], 'g', label='test data', alpha=0.5)\n",
    "plt.plot(test.index[1: N+1], y_test_rec[:N], '--r', label='Предсказание путем рекурсивного моделирования')\n",
    "\n",
    "plt.legend()\n",
    "plt.show()    "
   ]
  },
  {
   "cell_type": "code",
   "execution_count": null,
   "metadata": {},
   "outputs": [],
   "source": [
    "er_g_rec = mean_absolute_percentage_error(y_true=y_test[:N], y_pred=y_test_rec[:N])\n",
    "\n",
    "print('ошибка градиентного бустинга:  ', er_g_4, '%')\n",
    "print('ошибка рекурсивного моделирования:  ', er_g_rec, '%')"
   ]
  },
  {
   "cell_type": "markdown",
   "metadata": {},
   "source": [
    "## Оцените рост ошибки прогнозирования рекурсивной модели в интервалах от 1-й до 10-й, от 10-й до 20-й, от 20-й до 30-й, .. .10i-й до (i+1)10 -й,... ,от 90 до 100-й точках (используйте осреденение по десяткам точек)"
   ]
  },
  {
   "cell_type": "code",
   "execution_count": null,
   "metadata": {},
   "outputs": [],
   "source": [
    "N = 10\n",
    "\n",
    "for i in range(N):\n",
    "    y_test_rec[i] = model_g_best.predict(X_test_rec[i, :].reshape((1, 6)))\n",
    "    X_test_rec[i+1, 0] = y_test_rec[i]\n",
    "    X_test_rec[i+1, 4] = X_test_rec[i, 0]\n",
    "    if i>4:\n",
    "        X_test_rec[i+1, 5] = X_test_rec[i-5, 0]\n",
    "er_g_rec_10 = mean_absolute_percentage_error(y_true=y_test[:N], y_pred=y_test_rec[:N])\n",
    "print('ошибка рекурсивного моделирования:  ', er_g_rec_10, '%')"
   ]
  },
  {
   "cell_type": "code",
   "execution_count": null,
   "metadata": {},
   "outputs": [],
   "source": [
    "N = 20\n",
    "\n",
    "for i in range(N):\n",
    "    y_test_rec[i] = model_g_best.predict(X_test_rec[i, :].reshape((1, 6)))\n",
    "    X_test_rec[i+1, 0] = y_test_rec[i]\n",
    "    X_test_rec[i+1, 4] = X_test_rec[i, 0]\n",
    "    if i>4:\n",
    "        X_test_rec[i+1, 5] = X_test_rec[i-5, 0]\n",
    "er_g_rec_20 = mean_absolute_percentage_error(y_true=y_test[:N], y_pred=y_test_rec[:N])\n",
    "print('ошибка рекурсивного моделирования:  ', er_g_rec_20, '%')"
   ]
  },
  {
   "cell_type": "code",
   "execution_count": null,
   "metadata": {},
   "outputs": [],
   "source": [
    "N = 30\n",
    "\n",
    "for i in range(N):\n",
    "    y_test_rec[i] = model_g_best.predict(X_test_rec[i, :].reshape((1, 6)))\n",
    "    X_test_rec[i+1, 0] = y_test_rec[i]\n",
    "    X_test_rec[i+1, 4] = X_test_rec[i, 0]\n",
    "    if i>4:\n",
    "        X_test_rec[i+1, 5] = X_test_rec[i-5, 0]\n",
    "er_g_rec_30 = mean_absolute_percentage_error(y_true=y_test[:N], y_pred=y_test_rec[:N])\n",
    "print('ошибка рекурсивного моделирования:  ', er_g_rec_30, '%')"
   ]
  },
  {
   "cell_type": "code",
   "execution_count": null,
   "metadata": {},
   "outputs": [],
   "source": [
    "N = 40\n",
    "\n",
    "for i in range(N):\n",
    "    y_test_rec[i] = model_g_best.predict(X_test_rec[i, :].reshape((1, 6)))\n",
    "    X_test_rec[i+1, 0] = y_test_rec[i]\n",
    "    X_test_rec[i+1, 4] = X_test_rec[i, 0]\n",
    "    if i>4:\n",
    "        X_test_rec[i+1, 5] = X_test_rec[i-5, 0]\n",
    "er_g_rec_40 = mean_absolute_percentage_error(y_true=y_test[:N], y_pred=y_test_rec[:N])\n",
    "print('ошибка рекурсивного моделирования:  ', er_g_rec_40, '%')"
   ]
  },
  {
   "cell_type": "code",
   "execution_count": null,
   "metadata": {},
   "outputs": [],
   "source": [
    "N = 50\n",
    "\n",
    "for i in range(N):\n",
    "    y_test_rec[i] = model_g_best.predict(X_test_rec[i, :].reshape((1, 6)))\n",
    "    X_test_rec[i+1, 0] = y_test_rec[i]\n",
    "    X_test_rec[i+1, 4] = X_test_rec[i, 0]\n",
    "    if i>4:\n",
    "        X_test_rec[i+1, 5] = X_test_rec[i-5, 0]\n",
    "er_g_rec_50 = mean_absolute_percentage_error(y_true=y_test[:N], y_pred=y_test_rec[:N])\n",
    "print('ошибка рекурсивного моделирования:  ', er_g_rec_50, '%')"
   ]
  },
  {
   "cell_type": "code",
   "execution_count": null,
   "metadata": {},
   "outputs": [],
   "source": [
    "N = 60\n",
    "\n",
    "for i in range(N):\n",
    "    y_test_rec[i] = model_g_best.predict(X_test_rec[i, :].reshape((1, 6)))\n",
    "    X_test_rec[i+1, 0] = y_test_rec[i]\n",
    "    X_test_rec[i+1, 4] = X_test_rec[i, 0]\n",
    "    if i>4:\n",
    "        X_test_rec[i+1, 5] = X_test_rec[i-5, 0]\n",
    "er_g_rec_60 = mean_absolute_percentage_error(y_true=y_test[:N], y_pred=y_test_rec[:N])\n",
    "print('ошибка рекурсивного моделирования:  ', er_g_rec_60, '%')"
   ]
  },
  {
   "cell_type": "code",
   "execution_count": null,
   "metadata": {},
   "outputs": [],
   "source": [
    "N = 70\n",
    "\n",
    "for i in range(N):\n",
    "    y_test_rec[i] = model_g_best.predict(X_test_rec[i, :].reshape((1, 6)))\n",
    "    X_test_rec[i+1, 0] = y_test_rec[i]\n",
    "    X_test_rec[i+1, 4] = X_test_rec[i, 0]\n",
    "    if i>4:\n",
    "        X_test_rec[i+1, 5] = X_test_rec[i-5, 0]\n",
    "er_g_rec_70 = mean_absolute_percentage_error(y_true=y_test[:N], y_pred=y_test_rec[:N])\n",
    "print('ошибка рекурсивного моделирования:  ', er_g_rec_70, '%')"
   ]
  },
  {
   "cell_type": "code",
   "execution_count": null,
   "metadata": {},
   "outputs": [],
   "source": [
    "N = 80\n",
    "\n",
    "for i in range(N):\n",
    "    y_test_rec[i] = model_g_best.predict(X_test_rec[i, :].reshape((1, 6)))\n",
    "    X_test_rec[i+1, 0] = y_test_rec[i]\n",
    "    X_test_rec[i+1, 4] = X_test_rec[i, 0]\n",
    "    if i>4:\n",
    "        X_test_rec[i+1, 5] = X_test_rec[i-5, 0]\n",
    "er_g_rec_80 = mean_absolute_percentage_error(y_true=y_test[:N], y_pred=y_test_rec[:N])\n",
    "print('ошибка рекурсивного моделирования:  ', er_g_rec_80, '%')"
   ]
  },
  {
   "cell_type": "code",
   "execution_count": null,
   "metadata": {},
   "outputs": [],
   "source": [
    "N = 90\n",
    "\n",
    "for i in range(N):\n",
    "    y_test_rec[i] = model_g_best.predict(X_test_rec[i, :].reshape((1, 6)))\n",
    "    X_test_rec[i+1, 0] = y_test_rec[i]\n",
    "    X_test_rec[i+1, 4] = X_test_rec[i, 0]\n",
    "    if i>4:\n",
    "        X_test_rec[i+1, 5] = X_test_rec[i-5, 0]\n",
    "er_g_rec_90 = mean_absolute_percentage_error(y_true=y_test[:N], y_pred=y_test_rec[:N])\n",
    "print('ошибка рекурсивного моделирования:  ', er_g_rec_90, '%')"
   ]
  },
  {
   "cell_type": "code",
   "execution_count": null,
   "metadata": {},
   "outputs": [],
   "source": [
    "N = 100\n",
    "\n",
    "for i in range(N):\n",
    "    y_test_rec[i] = model_g_best.predict(X_test_rec[i, :].reshape((1, 6)))\n",
    "    X_test_rec[i+1, 0] = y_test_rec[i]\n",
    "    X_test_rec[i+1, 4] = X_test_rec[i, 0]\n",
    "    if i>4:\n",
    "        X_test_rec[i+1, 5] = X_test_rec[i-5, 0]\n",
    "er_g_rec_100 = mean_absolute_percentage_error(y_true=y_test[:N], y_pred=y_test_rec[:N])\n",
    "print('ошибка рекурсивного моделирования:  ', er_g_rec_100, '%')"
   ]
  },
  {
   "cell_type": "markdown",
   "metadata": {},
   "source": [
    "## Сделайте вывод о том, как изменилось поведение ошибки предсказания ряда."
   ]
  },
  {
   "cell_type": "code",
   "execution_count": null,
   "metadata": {},
   "outputs": [],
   "source": []
  }
 ],
 "metadata": {
  "kernelspec": {
   "display_name": "Python 3",
   "language": "python",
   "name": "python3"
  },
  "language_info": {
   "codemirror_mode": {
    "name": "ipython",
    "version": 3
   },
   "file_extension": ".py",
   "mimetype": "text/x-python",
   "name": "python",
   "nbconvert_exporter": "python",
   "pygments_lexer": "ipython3",
   "version": "3.7.1"
  }
 },
 "nbformat": 4,
 "nbformat_minor": 2
}
